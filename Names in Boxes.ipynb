{
 "cells": [
  {
   "cell_type": "markdown",
   "metadata": {},
   "source": [
    "# Names in Boxes (puzzle)"
   ]
  },
  {
   "cell_type": "code",
   "execution_count": 14,
   "metadata": {},
   "outputs": [],
   "source": [
    "import numpy as np\n",
    "from numpy.random import permutation"
   ]
  },
  {
   "cell_type": "code",
   "execution_count": 290,
   "metadata": {},
   "outputs": [
    {
     "name": "stdout",
     "output_type": "stream",
     "text": [
      "Give me death!\n"
     ]
    }
   ],
   "source": [
    "num_people = 100 # number of people/boxes\n",
    "num_pass = 100 # number of people who must win\n",
    "num_check = 50 # number of boxes you can check\n",
    "\n",
    "warden_choice = permutation(num_people) # numbers in each box, left-to-right\n",
    "people_choice = permutation(num_people) # labeling assigned to boxes by prisoners, left-to-right\n",
    "find_label = np.argsort(people_choice) # find_label[m] returns position of object with label m\n",
    "\n",
    "# prisoner n's strategy (0 <= n < num_people)\n",
    "def strategy_unit(n):\n",
    "    m = n\n",
    "    for i in range(num_check):\n",
    "        # go to box labeled m, open box\n",
    "        m = warden_choice[find_label[m]]\n",
    "        if m == n:\n",
    "            return True\n",
    "    return False\n",
    "\n",
    "def strategy(): return [strategy_unit(n) for n in range(num_people)]\n",
    "\n",
    "if np.sum(strategy()) >= num_pass: print(\"Give me liberty!\") \n",
    "else: print(\"Give me death!\")"
   ]
  },
  {
   "cell_type": "code",
   "execution_count": null,
   "metadata": {},
   "outputs": [],
   "source": []
  }
 ],
 "metadata": {
  "kernelspec": {
   "display_name": "Python 3",
   "language": "python",
   "name": "python3"
  },
  "language_info": {
   "codemirror_mode": {
    "name": "ipython",
    "version": 3
   },
   "file_extension": ".py",
   "mimetype": "text/x-python",
   "name": "python",
   "nbconvert_exporter": "python",
   "pygments_lexer": "ipython3",
   "version": "3.7.1"
  }
 },
 "nbformat": 4,
 "nbformat_minor": 2
}
